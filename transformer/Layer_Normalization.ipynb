{
  "cells": [
    {
      "cell_type": "code",
      "execution_count": 2,
      "metadata": {
        "id": "yauMbbQbJ5Jk"
      },
      "outputs": [],
      "source": [
        "import torch\n",
        "from torch import nn"
      ]
    },
    {
      "cell_type": "code",
      "execution_count": 3,
      "metadata": {
        "colab": {
          "base_uri": "https://localhost:8080/"
        },
        "id": "TL65EVE_J7KO",
        "outputId": "0d0ecb69-bc6b-4c26-91ea-15647d304287"
      },
      "outputs": [
        {
          "data": {
            "text/plain": [
              "torch.Size([2, 1, 3])"
            ]
          },
          "execution_count": 3,
          "metadata": {},
          "output_type": "execute_result"
        }
      ],
      "source": [
        "inputs = torch.Tensor([[[0.2, 0.1, 0.3], [0.5, 0.1, 0.1]]])\n",
        "B, S, E = inputs.size()\n",
        "inputs = inputs.reshape(S, B, E)\n",
        "inputs.size()"
      ]
    },
    {
      "cell_type": "code",
      "execution_count": 4,
      "metadata": {
        "id": "--zvWWq2KLl1"
      },
      "outputs": [],
      "source": [
        "parameter_shape = inputs.size()[-2:]\n",
        "gamma = nn.Parameter(torch.ones(parameter_shape))\n",
        "beta =  nn.Parameter(torch.zeros(parameter_shape))"
      ]
    },
    {
      "cell_type": "code",
      "execution_count": 5,
      "metadata": {
        "colab": {
          "base_uri": "https://localhost:8080/"
        },
        "id": "YAhmuOruKYzO",
        "outputId": "755d29b3-cfcf-42d0-ccce-6ffb09efd696"
      },
      "outputs": [
        {
          "data": {
            "text/plain": [
              "(torch.Size([1, 3]), torch.Size([1, 3]))"
            ]
          },
          "execution_count": 5,
          "metadata": {},
          "output_type": "execute_result"
        }
      ],
      "source": [
        "gamma.size(), beta.size()"
      ]
    },
    {
      "cell_type": "code",
      "execution_count": 6,
      "metadata": {
        "id": "85ajY22cJ5Bg"
      },
      "outputs": [],
      "source": [
        "dims = [-(i + 1) for i in range(len(parameter_shape))]"
      ]
    },
    {
      "cell_type": "code",
      "execution_count": 7,
      "metadata": {
        "colab": {
          "base_uri": "https://localhost:8080/"
        },
        "id": "APG-ccQ1J4zc",
        "outputId": "5c2ad65e-9740-42b5-bfd2-dfa7ed3fc24a"
      },
      "outputs": [
        {
          "data": {
            "text/plain": [
              "[-1, -2]"
            ]
          },
          "execution_count": 7,
          "metadata": {},
          "output_type": "execute_result"
        }
      ],
      "source": [
        "dims"
      ]
    },
    {
      "cell_type": "code",
      "execution_count": 8,
      "metadata": {
        "colab": {
          "base_uri": "https://localhost:8080/"
        },
        "id": "Py8DHV7AMX6y",
        "outputId": "a897c5fc-a53c-497e-faae-c1c6cee49098"
      },
      "outputs": [
        {
          "data": {
            "text/plain": [
              "torch.Size([2, 1, 1])"
            ]
          },
          "execution_count": 8,
          "metadata": {},
          "output_type": "execute_result"
        }
      ],
      "source": [
        "mean = inputs.mean(dim=dims, keepdim=True)\n",
        "mean.size()"
      ]
    },
    {
      "cell_type": "code",
      "execution_count": 9,
      "metadata": {
        "colab": {
          "base_uri": "https://localhost:8080/"
        },
        "id": "P4w9NIUPQRj-",
        "outputId": "97fca7ec-f26b-4429-ff4c-197ac2c5d970"
      },
      "outputs": [
        {
          "data": {
            "text/plain": [
              "tensor([[[0.2000]],\n",
              "\n",
              "        [[0.2333]]])"
            ]
          },
          "execution_count": 9,
          "metadata": {},
          "output_type": "execute_result"
        }
      ],
      "source": [
        "mean"
      ]
    },
    {
      "cell_type": "code",
      "execution_count": 10,
      "metadata": {
        "colab": {
          "base_uri": "https://localhost:8080/"
        },
        "id": "1lEkVVi3M_8_",
        "outputId": "f4e2a32b-d5ed-4622-8923-eb380d5b5bfc"
      },
      "outputs": [
        {
          "data": {
            "text/plain": [
              "tensor([[[0.0817]],\n",
              "\n",
              "        [[0.1886]]])"
            ]
          },
          "execution_count": 10,
          "metadata": {},
          "output_type": "execute_result"
        }
      ],
      "source": [
        "var = ((inputs - mean) ** 2).mean(dim=dims, keepdim=True)\n",
        "epsilon = 1e-5\n",
        "std = (var + epsilon).sqrt()\n",
        "std"
      ]
    },
    {
      "cell_type": "code",
      "execution_count": 11,
      "metadata": {
        "colab": {
          "base_uri": "https://localhost:8080/"
        },
        "id": "rRokYqlDN6yJ",
        "outputId": "f6dcbaf3-ad33-4d9f-e0ec-039e49424e4a"
      },
      "outputs": [
        {
          "data": {
            "text/plain": [
              "tensor([[[ 0.0000, -1.2238,  1.2238]],\n",
              "\n",
              "        [[ 1.4140, -0.7070, -0.7070]]])"
            ]
          },
          "execution_count": 11,
          "metadata": {},
          "output_type": "execute_result"
        }
      ],
      "source": [
        "y = (inputs - mean) / std\n",
        "y"
      ]
    },
    {
      "cell_type": "code",
      "execution_count": 12,
      "metadata": {
        "id": "7cc8NMZVN_sQ"
      },
      "outputs": [],
      "source": [
        "out = gamma * y + beta"
      ]
    },
    {
      "cell_type": "code",
      "execution_count": 13,
      "metadata": {
        "colab": {
          "base_uri": "https://localhost:8080/"
        },
        "id": "YquX9ABbOLKy",
        "outputId": "1bc33d96-e9e5-4a5d-e3cc-4cb9c89cea22"
      },
      "outputs": [
        {
          "data": {
            "text/plain": [
              "tensor([[[ 0.0000, -1.2238,  1.2238]],\n",
              "\n",
              "        [[ 1.4140, -0.7070, -0.7070]]], grad_fn=<AddBackward0>)"
            ]
          },
          "execution_count": 13,
          "metadata": {},
          "output_type": "execute_result"
        }
      ],
      "source": [
        "out"
      ]
    },
    {
      "cell_type": "markdown",
      "metadata": {
        "id": "BO4x-axkv9j8"
      },
      "source": [
        "## Class"
      ]
    },
    {
      "cell_type": "code",
      "execution_count": 14,
      "metadata": {
        "id": "MYJ2AE7Sv-Wc"
      },
      "outputs": [],
      "source": [
        "import torch\n",
        "from torch import nn\n",
        "\n",
        "class LayerNormalization():\n",
        "    def __init__(self, parameters_shape, eps=1e-5):\n",
        "        self.parameters_shape=parameters_shape\n",
        "        self.eps=eps\n",
        "        self.gamma = nn.Parameter(torch.ones(parameters_shape))\n",
        "        self.beta =  nn.Parameter(torch.zeros(parameters_shape))\n",
        "\n",
        "    def forward(self, input):\n",
        "        dims = [-(i + 1) for i in range(len(self.parameters_shape))]\n",
        "        mean = inputs.mean(dim=dims, keepdim=True)\n",
        "        print(f\"Mean \\n ({mean.size()}): \\n {mean}\")\n",
        "        var = ((inputs - mean) ** 2).mean(dim=dims, keepdim=True)\n",
        "        std = (var + self.eps).sqrt()\n",
        "        print(f\"Standard Deviation \\n ({std.size()}): \\n {std}\")\n",
        "        y = (inputs - mean) / std\n",
        "        print(f\"y \\n ({y.size()}) = \\n {y}\")\n",
        "        out = self.gamma * y  + self.beta\n",
        "        print(f\"out \\n ({out.size()}) = \\n {out}\")\n",
        "        return out"
      ]
    },
    {
      "cell_type": "code",
      "execution_count": 15,
      "metadata": {
        "colab": {
          "base_uri": "https://localhost:8080/"
        },
        "id": "zrnZx0HYyoRz",
        "outputId": "7d894aa6-6181-4597-b160-a932fc274d70"
      },
      "outputs": [
        {
          "name": "stdout",
          "output_type": "stream",
          "text": [
            "input \n",
            " (torch.Size([3, 2, 4])) = \n",
            " tensor([[[ 2.4057,  2.5422,  1.7291,  0.1332],\n",
            "         [ 0.5426, -1.2210, -0.2213, -0.4375]],\n",
            "\n",
            "        [[ 0.2198, -0.0851,  2.1993, -1.5436],\n",
            "         [-0.9357, -1.6414, -0.9650, -0.3945]],\n",
            "\n",
            "        [[-0.7204, -3.1008,  0.2288, -0.1439],\n",
            "         [-0.9144,  0.0583,  0.7968,  0.2167]]])\n"
          ]
        }
      ],
      "source": [
        "batch_size = 2\n",
        "sentence_length = 3\n",
        "embedding_dim = 4\n",
        "inputs = torch.randn(sentence_length, batch_size, embedding_dim)\n",
        "\n",
        "print(f\"input \\n ({inputs.size()}) = \\n {inputs}\")"
      ]
    },
    {
      "cell_type": "code",
      "execution_count": 16,
      "metadata": {
        "id": "3U3akvkFys68"
      },
      "outputs": [],
      "source": [
        "layer_norm = LayerNormalization(inputs.size()[-1:])"
      ]
    },
    {
      "cell_type": "code",
      "execution_count": 17,
      "metadata": {
        "colab": {
          "base_uri": "https://localhost:8080/"
        },
        "id": "JQ9lt7LUy-g9",
        "outputId": "658ed727-ec37-4eee-fef8-e553cb084e88"
      },
      "outputs": [
        {
          "name": "stdout",
          "output_type": "stream",
          "text": [
            "Mean \n",
            " (torch.Size([3, 2, 1])): \n",
            " tensor([[[ 1.7026],\n",
            "         [-0.3343]],\n",
            "\n",
            "        [[ 0.1976],\n",
            "         [-0.9842]],\n",
            "\n",
            "        [[-0.9341],\n",
            "         [ 0.0394]]])\n",
            "Standard Deviation \n",
            " (torch.Size([3, 2, 1])): \n",
            " tensor([[[0.9569],\n",
            "         [0.6282]],\n",
            "\n",
            "        [[1.3341],\n",
            "         [0.4422]],\n",
            "\n",
            "        [[1.2959],\n",
            "         [0.6155]]])\n",
            "y \n",
            " (torch.Size([3, 2, 4])) = \n",
            " tensor([[[ 0.7348,  0.8774,  0.0277, -1.6399],\n",
            "         [ 1.3958, -1.4115,  0.1798, -0.1642]],\n",
            "\n",
            "        [[ 0.0166, -0.2119,  1.5004, -1.3052],\n",
            "         [ 0.1095, -1.4861,  0.0434,  1.3332]],\n",
            "\n",
            "        [[ 0.1649, -1.6720,  0.8974,  0.6098],\n",
            "         [-1.5496,  0.0308,  1.2307,  0.2881]]])\n",
            "out \n",
            " (torch.Size([3, 2, 4])) = \n",
            " tensor([[[ 0.7348,  0.8774,  0.0277, -1.6399],\n",
            "         [ 1.3958, -1.4115,  0.1798, -0.1642]],\n",
            "\n",
            "        [[ 0.0166, -0.2119,  1.5004, -1.3052],\n",
            "         [ 0.1095, -1.4861,  0.0434,  1.3332]],\n",
            "\n",
            "        [[ 0.1649, -1.6720,  0.8974,  0.6098],\n",
            "         [-1.5496,  0.0308,  1.2307,  0.2881]]], grad_fn=<AddBackward0>)\n"
          ]
        }
      ],
      "source": [
        "out = layer_norm.forward(inputs)"
      ]
    },
    {
      "cell_type": "code",
      "execution_count": 18,
      "metadata": {
        "colab": {
          "base_uri": "https://localhost:8080/"
        },
        "id": "TSUGdHwL6yD2",
        "outputId": "e38f4032-4a80-477c-d0d7-ff64fe0b13e9"
      },
      "outputs": [
        {
          "data": {
            "text/plain": [
              "(tensor(8.9407e-08, grad_fn=<MeanBackward0>),\n",
              " tensor(1.0690, grad_fn=<StdBackward0>))"
            ]
          },
          "execution_count": 18,
          "metadata": {},
          "output_type": "execute_result"
        }
      ],
      "source": [
        "out[0].mean(), out[0].std()"
      ]
    }
  ],
  "metadata": {
    "colab": {
      "provenance": []
    },
    "kernelspec": {
      "display_name": "Python 3",
      "name": "python3"
    },
    "language_info": {
      "codemirror_mode": {
        "name": "ipython",
        "version": 3
      },
      "file_extension": ".py",
      "mimetype": "text/x-python",
      "name": "python",
      "nbconvert_exporter": "python",
      "pygments_lexer": "ipython3",
      "version": "3.12.2"
    }
  },
  "nbformat": 4,
  "nbformat_minor": 0
}
