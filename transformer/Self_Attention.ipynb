{
  "cells": [
    {
      "cell_type": "markdown",
      "metadata": {
        "id": "gO5Z0qErNuOt"
      },
      "source": [
        "# Self Attention in Transformers"
      ]
    },
    {
      "cell_type": "markdown",
      "metadata": {
        "id": "HedntyUvLrBo"
      },
      "source": [
        "## Generate Data"
      ]
    },
    {
      "cell_type": "code",
      "execution_count": 6,
      "metadata": {
        "id": "xtKbaWhFJui3"
      },
      "outputs": [],
      "source": [
        "import numpy as np\n",
        "import math\n",
        "\n",
        "L, d_k, d_v = 4, 8, 8\n",
        "q = np.random.randn(L, d_k)\n",
        "k = np.random.randn(L, d_k)\n",
        "v = np.random.randn(L, d_v)"
      ]
    },
    {
      "cell_type": "code",
      "execution_count": 7,
      "metadata": {
        "colab": {
          "base_uri": "https://localhost:8080/"
        },
        "id": "09JpvuNJ2sZC",
        "outputId": "30d2c627-8647-44e0-aa92-c9e53e3b7843"
      },
      "outputs": [
        {
          "name": "stdout",
          "output_type": "stream",
          "text": [
            "Q\n",
            " [[-0.29071144 -1.052991   -0.98942321 -0.92868288  0.61144028  0.26903044\n",
            "   0.46918848 -0.29149256]\n",
            " [-1.56133703  0.03052599  0.43176384  0.48118882  1.48503777 -0.56440178\n",
            "  -1.95126407 -2.55662422]\n",
            " [-0.57329254 -0.82606486  0.65375037  0.16381062  0.07570454  1.1881824\n",
            "  -2.3370799  -0.9624577 ]\n",
            " [ 1.18993814  0.81444341  0.96794046 -0.69342096 -0.28468606 -0.43967067\n",
            "   0.07312889 -0.7314036 ]]\n",
            "K\n",
            " [[ 0.87234172 -0.37437621 -0.22993135 -0.49516156  1.05696625  0.08139426\n",
            "   0.335167    0.73810794]\n",
            " [-0.53381132 -0.02988164  2.17935585  0.26489901  1.45755181  1.75288246\n",
            "   0.3314582   0.06292065]\n",
            " [-1.08549485 -0.72249727  1.60814021  1.03018781 -0.06491381  0.02085411\n",
            "  -0.26663793  1.51183359]\n",
            " [ 0.14342002 -0.95578698  0.47519809  0.11451661  0.41585379 -0.28159015\n",
            "  -1.41775128 -0.61641328]]\n",
            "V\n",
            " [[-1.49793213 -0.9999246   0.20835007  0.81162595 -0.18394427  0.1143808\n",
            "  -0.46859362  1.07741661]\n",
            " [-0.2383662  -1.80720243 -1.16076983  0.88053246 -0.60149722  0.43794888\n",
            "   2.61582067  0.0248124 ]\n",
            " [ 0.46484175  0.48705698  1.52625267  1.42070759  0.06812357 -0.55398759\n",
            "  -0.12102809 -0.33537337]\n",
            " [ 2.06898056  0.83287762  0.04544564 -0.35702105 -1.03622482  0.39771129\n",
            "   0.84178805 -0.80856907]]\n"
          ]
        }
      ],
      "source": [
        "print(\"Q\\n\", q)\n",
        "print(\"K\\n\", k)\n",
        "print(\"V\\n\", v)"
      ]
    },
    {
      "cell_type": "markdown",
      "metadata": {
        "id": "tV6txskBLwjh"
      },
      "source": [
        "## Self Attention\n",
        "\n",
        "$$\n",
        "\\text{self attention} = softmax\\bigg(\\frac{Q.K^T}{\\sqrt{d_k}}+M\\bigg)\n",
        "$$\n",
        "\n",
        "$$\n",
        "\\text{new V} = \\text{self attention}.V\n",
        "$$ "
      ]
    },
    {
      "cell_type": "code",
      "execution_count": 8,
      "metadata": {
        "colab": {
          "base_uri": "https://localhost:8080/"
        },
        "id": "x7GePHKk3Mh0",
        "outputId": "7dae7f5e-4715-4fd4-fbfd-7c0815e7d39e"
      },
      "outputs": [
        {
          "data": {
            "text/plain": [
              "array([[ 1.43823534e+00, -7.15702178e-01, -2.07137236e+00,\n",
              "         8.12203528e-02],\n",
              "       [-2.72835811e+00,  2.26854328e+00, -5.90258892e-01,\n",
              "         5.12600694e+00],\n",
              "       [-1.73925976e+00,  3.15674681e+00,  1.62715616e+00,\n",
              "         4.64031166e+00],\n",
              "       [ 1.88535654e-03,  5.88439137e-02, -2.15382306e+00,\n",
              "         1.25369256e-01]])"
            ]
          },
          "execution_count": 8,
          "metadata": {},
          "output_type": "execute_result"
        }
      ],
      "source": [
        "np.matmul(q, k.T)"
      ]
    },
    {
      "cell_type": "code",
      "execution_count": 9,
      "metadata": {
        "colab": {
          "base_uri": "https://localhost:8080/"
        },
        "id": "odK76OoI3nL2",
        "outputId": "69b50cdb-9a41-45ae-bfd2-619228af1ef7"
      },
      "outputs": [
        {
          "data": {
            "text/plain": [
              "(0.9696122177211076, 0.7256089967229388, 5.211127799895605)"
            ]
          },
          "execution_count": 9,
          "metadata": {},
          "output_type": "execute_result"
        }
      ],
      "source": [
        "# Why we need sqrt(d_k) in denominator\n",
        "q.var(), k.var(), np.matmul(q, k.T).var()"
      ]
    },
    {
      "cell_type": "code",
      "execution_count": 10,
      "metadata": {
        "colab": {
          "base_uri": "https://localhost:8080/"
        },
        "id": "0Ps6AY1Q3tRI",
        "outputId": "3b9ac3c8-70b8-47bd-e868-e7d6fd26d270"
      },
      "outputs": [
        {
          "data": {
            "text/plain": [
              "(0.9696122177211076, 0.7256089967229388, 0.6513909749869508)"
            ]
          },
          "execution_count": 10,
          "metadata": {},
          "output_type": "execute_result"
        }
      ],
      "source": [
        "scaled = np.matmul(q, k.T) / math.sqrt(d_k)\n",
        "q.var(), k.var(), scaled.var()"
      ]
    },
    {
      "cell_type": "markdown",
      "metadata": {
        "id": "ypO9IK1PL3cJ"
      },
      "source": [
        "Notice the reduction in variance of the product"
      ]
    },
    {
      "cell_type": "code",
      "execution_count": 11,
      "metadata": {
        "colab": {
          "base_uri": "https://localhost:8080/"
        },
        "id": "LVHAJR4N4VQX",
        "outputId": "52b06cf8-0381-453c-b576-0bd8de9a38b5"
      },
      "outputs": [
        {
          "data": {
            "text/plain": [
              "array([[ 5.08492981e-01, -2.53038932e-01, -7.32340721e-01,\n",
              "         2.87157311e-02],\n",
              "       [-9.64620260e-01,  8.02051169e-01, -2.08688032e-01,\n",
              "         1.81231714e+00],\n",
              "       [-6.14921184e-01,  1.11607854e+00,  5.75286579e-01,\n",
              "         1.64059792e+00],\n",
              "       [ 6.66574196e-04,  2.08044652e-02, -7.61491446e-01,\n",
              "         4.43247256e-02]])"
            ]
          },
          "execution_count": 11,
          "metadata": {},
          "output_type": "execute_result"
        }
      ],
      "source": [
        "scaled"
      ]
    },
    {
      "cell_type": "markdown",
      "metadata": {
        "id": "Dmz4v-RmMAaj"
      },
      "source": [
        "## Masking\n",
        "\n",
        "- This is to ensure words don't get context from words generated in the future. \n",
        "- Not required in the encoders, but required int he decoders"
      ]
    },
    {
      "cell_type": "code",
      "execution_count": 12,
      "metadata": {
        "colab": {
          "base_uri": "https://localhost:8080/"
        },
        "id": "e8N3OhSLILfG",
        "outputId": "2c63a444-066c-44b2-abe5-242dd989f311"
      },
      "outputs": [
        {
          "data": {
            "text/plain": [
              "array([[1., 0., 0., 0.],\n",
              "       [1., 1., 0., 0.],\n",
              "       [1., 1., 1., 0.],\n",
              "       [1., 1., 1., 1.]])"
            ]
          },
          "execution_count": 12,
          "metadata": {},
          "output_type": "execute_result"
        }
      ],
      "source": [
        "mask = np.tril(np.ones( (L, L) ))\n",
        "mask"
      ]
    },
    {
      "cell_type": "code",
      "execution_count": 13,
      "metadata": {
        "id": "hIV9K3Yn6s1V"
      },
      "outputs": [],
      "source": [
        "mask[mask == 0] = -np.infty\n",
        "mask[mask == 1] = 0"
      ]
    },
    {
      "cell_type": "code",
      "execution_count": 14,
      "metadata": {
        "colab": {
          "base_uri": "https://localhost:8080/"
        },
        "id": "LK5V_T3W6vpX",
        "outputId": "bb4160a1-a011-4850-e403-9cb252572c66"
      },
      "outputs": [
        {
          "data": {
            "text/plain": [
              "array([[  0., -inf, -inf, -inf],\n",
              "       [  0.,   0., -inf, -inf],\n",
              "       [  0.,   0.,   0., -inf],\n",
              "       [  0.,   0.,   0.,   0.]])"
            ]
          },
          "execution_count": 14,
          "metadata": {},
          "output_type": "execute_result"
        }
      ],
      "source": [
        "mask"
      ]
    },
    {
      "cell_type": "code",
      "execution_count": 15,
      "metadata": {
        "colab": {
          "base_uri": "https://localhost:8080/"
        },
        "id": "lNH1VgEf7xTa",
        "outputId": "4211c411-0356-4e39-8388-d39b0c1d0920"
      },
      "outputs": [
        {
          "data": {
            "text/plain": [
              "array([[ 5.08492981e-01,            -inf,            -inf,\n",
              "                   -inf],\n",
              "       [-9.64620260e-01,  8.02051169e-01,            -inf,\n",
              "                   -inf],\n",
              "       [-6.14921184e-01,  1.11607854e+00,  5.75286579e-01,\n",
              "                   -inf],\n",
              "       [ 6.66574196e-04,  2.08044652e-02, -7.61491446e-01,\n",
              "         4.43247256e-02]])"
            ]
          },
          "execution_count": 15,
          "metadata": {},
          "output_type": "execute_result"
        }
      ],
      "source": [
        "scaled + mask"
      ]
    },
    {
      "cell_type": "markdown",
      "metadata": {
        "id": "XMTAXjooN9eZ"
      },
      "source": [
        "## Softmax\n",
        "\n",
        "$$\n",
        "\\text{softmax} = \\frac{e^{x_i}}{\\sum_j e^x_j}\n",
        "$$"
      ]
    },
    {
      "cell_type": "code",
      "execution_count": 16,
      "metadata": {
        "id": "2R4gdRqj8W4Y"
      },
      "outputs": [],
      "source": [
        "def softmax(x):\n",
        "  return (np.exp(x).T / np.sum(np.exp(x), axis=-1)).T"
      ]
    },
    {
      "cell_type": "code",
      "execution_count": 17,
      "metadata": {
        "id": "K5eg2zPy41sP"
      },
      "outputs": [],
      "source": [
        "attention = softmax(scaled + mask)"
      ]
    },
    {
      "cell_type": "code",
      "execution_count": 18,
      "metadata": {
        "colab": {
          "base_uri": "https://localhost:8080/"
        },
        "id": "7sauNmfl-1TB",
        "outputId": "46b22beb-9034-4c7c-8d56-04209d2581c4"
      },
      "outputs": [
        {
          "data": {
            "text/plain": [
              "array([[1.        , 0.        , 0.        , 0.        ],\n",
              "       [0.14595676, 0.85404324, 0.        , 0.        ],\n",
              "       [0.10066378, 0.56837746, 0.33095876, 0.        ],\n",
              "       [0.28315573, 0.28891569, 0.13213697, 0.29579161]])"
            ]
          },
          "execution_count": 18,
          "metadata": {},
          "output_type": "execute_result"
        }
      ],
      "source": [
        "attention"
      ]
    },
    {
      "cell_type": "markdown",
      "metadata": {},
      "source": [
        "    ([[1.        , 0.        , 0.        , 0.      ], decoder looking at the 1st word\n",
        "    [0.51359112, 0.48640888, 0.        , 0.        ], decoder looking at first 2 words\n",
        "    [0.53753304, 0.27144826, 0.1910187 , 0.        ], 3 previous words\n",
        "    [0.19293995, 0.03256643, 0.57960627, 0.19488734]]) 4 previous words"
      ]
    },
    {
      "cell_type": "markdown",
      "metadata": {},
      "source": [
        "### without mask, it will look at the values"
      ]
    },
    {
      "cell_type": "code",
      "execution_count": 19,
      "metadata": {
        "colab": {
          "base_uri": "https://localhost:8080/"
        },
        "id": "BAy37go56LZo",
        "outputId": "78d97fa1-e0b3-4c1d-8294-bf0fdb77f199"
      },
      "outputs": [
        {
          "data": {
            "text/plain": [
              "array([[-1.49793213, -0.9999246 ,  0.20835007,  0.81162595, -0.18394427,\n",
              "         0.1143808 , -0.46859362,  1.07741661],\n",
              "       [-0.42220836, -1.68937477, -0.96093753,  0.87047509, -0.54055254,\n",
              "         0.39072193,  2.16562956,  0.1784471 ],\n",
              "       [-0.13242603, -0.96663354, -0.13365541,  1.05237177, -0.33784789,\n",
              "         0.07708723,  1.3995478 ,  0.01156488],\n",
              "       [ 0.18039406, -0.49454708, -0.06125226,  0.56634035, -0.52337182,\n",
              "         0.20335531,  0.85606823,  0.02876221]])"
            ]
          },
          "execution_count": 19,
          "metadata": {},
          "output_type": "execute_result"
        }
      ],
      "source": [
        "new_v = np.matmul(attention, v)\n",
        "new_v"
      ]
    },
    {
      "cell_type": "code",
      "execution_count": 20,
      "metadata": {
        "colab": {
          "base_uri": "https://localhost:8080/"
        },
        "id": "vCP2aZOU9VrT",
        "outputId": "e1fe2137-cd95-4a4b-fa1a-3ec21c38104c"
      },
      "outputs": [
        {
          "data": {
            "text/plain": [
              "array([[-1.49793213, -0.9999246 ,  0.20835007,  0.81162595, -0.18394427,\n",
              "         0.1143808 , -0.46859362,  1.07741661],\n",
              "       [-0.2383662 , -1.80720243, -1.16076983,  0.88053246, -0.60149722,\n",
              "         0.43794888,  2.61582067,  0.0248124 ],\n",
              "       [ 0.46484175,  0.48705698,  1.52625267,  1.42070759,  0.06812357,\n",
              "        -0.55398759, -0.12102809, -0.33537337],\n",
              "       [ 2.06898056,  0.83287762,  0.04544564, -0.35702105, -1.03622482,\n",
              "         0.39771129,  0.84178805, -0.80856907]])"
            ]
          },
          "execution_count": 20,
          "metadata": {},
          "output_type": "execute_result"
        }
      ],
      "source": [
        "v"
      ]
    },
    {
      "cell_type": "markdown",
      "metadata": {
        "id": "nSiJuBQELFHT"
      },
      "source": [
        "# Function"
      ]
    },
    {
      "cell_type": "code",
      "execution_count": 21,
      "metadata": {
        "id": "XvTnmdcB_jdq"
      },
      "outputs": [],
      "source": [
        "def softmax(x):\n",
        "  return (np.exp(x).T / np.sum(np.exp(x), axis=-1)).T\n",
        "\n",
        "def scaled_dot_product_attention(q, k, v, mask=None):\n",
        "  d_k = q.shape[-1]\n",
        "  scaled = np.matmul(q, k.T) / math.sqrt(d_k)\n",
        "  if mask is not None:\n",
        "    scaled = scaled + mask\n",
        "  attention = softmax(scaled)\n",
        "  out = np.matmul(attention, v)\n",
        "  return out, attention"
      ]
    },
    {
      "cell_type": "code",
      "execution_count": 22,
      "metadata": {
        "colab": {
          "base_uri": "https://localhost:8080/"
        },
        "id": "KSxLkZdiSLMT",
        "outputId": "ca70508d-fb6e-4eec-acb6-7a89a60dffa8"
      },
      "outputs": [
        {
          "name": "stdout",
          "output_type": "stream",
          "text": [
            "Q\n",
            " [[-0.29071144 -1.052991   -0.98942321 -0.92868288  0.61144028  0.26903044\n",
            "   0.46918848 -0.29149256]\n",
            " [-1.56133703  0.03052599  0.43176384  0.48118882  1.48503777 -0.56440178\n",
            "  -1.95126407 -2.55662422]\n",
            " [-0.57329254 -0.82606486  0.65375037  0.16381062  0.07570454  1.1881824\n",
            "  -2.3370799  -0.9624577 ]\n",
            " [ 1.18993814  0.81444341  0.96794046 -0.69342096 -0.28468606 -0.43967067\n",
            "   0.07312889 -0.7314036 ]]\n",
            "K\n",
            " [[ 0.87234172 -0.37437621 -0.22993135 -0.49516156  1.05696625  0.08139426\n",
            "   0.335167    0.73810794]\n",
            " [-0.53381132 -0.02988164  2.17935585  0.26489901  1.45755181  1.75288246\n",
            "   0.3314582   0.06292065]\n",
            " [-1.08549485 -0.72249727  1.60814021  1.03018781 -0.06491381  0.02085411\n",
            "  -0.26663793  1.51183359]\n",
            " [ 0.14342002 -0.95578698  0.47519809  0.11451661  0.41585379 -0.28159015\n",
            "  -1.41775128 -0.61641328]]\n",
            "V\n",
            " [[-1.49793213 -0.9999246   0.20835007  0.81162595 -0.18394427  0.1143808\n",
            "  -0.46859362  1.07741661]\n",
            " [-0.2383662  -1.80720243 -1.16076983  0.88053246 -0.60149722  0.43794888\n",
            "   2.61582067  0.0248124 ]\n",
            " [ 0.46484175  0.48705698  1.52625267  1.42070759  0.06812357 -0.55398759\n",
            "  -0.12102809 -0.33537337]\n",
            " [ 2.06898056  0.83287762  0.04544564 -0.35702105 -1.03622482  0.39771129\n",
            "   0.84178805 -0.80856907]]\n",
            "New V\n",
            " [[-1.49793213 -0.9999246   0.20835007  0.81162595 -0.18394427  0.1143808\n",
            "  -0.46859362  1.07741661]\n",
            " [-0.42220836 -1.68937477 -0.96093753  0.87047509 -0.54055254  0.39072193\n",
            "   2.16562956  0.1784471 ]\n",
            " [-0.13242603 -0.96663354 -0.13365541  1.05237177 -0.33784789  0.07708723\n",
            "   1.3995478   0.01156488]\n",
            " [ 0.18039406 -0.49454708 -0.06125226  0.56634035 -0.52337182  0.20335531\n",
            "   0.85606823  0.02876221]]\n",
            "Attention\n",
            " [[1.         0.         0.         0.        ]\n",
            " [0.14595676 0.85404324 0.         0.        ]\n",
            " [0.10066378 0.56837746 0.33095876 0.        ]\n",
            " [0.28315573 0.28891569 0.13213697 0.29579161]]\n"
          ]
        }
      ],
      "source": [
        "values, attention = scaled_dot_product_attention(q, k, v, mask=mask)\n",
        "print(\"Q\\n\", q)\n",
        "print(\"K\\n\", k)\n",
        "print(\"V\\n\", v)\n",
        "print(\"New V\\n\", values)\n",
        "print(\"Attention\\n\", attention)"
      ]
    },
    {
      "cell_type": "code",
      "execution_count": null,
      "metadata": {
        "id": "-HtQQtB2LJus"
      },
      "outputs": [],
      "source": []
    }
  ],
  "metadata": {
    "colab": {
      "provenance": []
    },
    "kernelspec": {
      "display_name": "tfodj",
      "language": "python",
      "name": "tfodj"
    },
    "language_info": {
      "codemirror_mode": {
        "name": "ipython",
        "version": 3
      },
      "file_extension": ".py",
      "mimetype": "text/x-python",
      "name": "python",
      "nbconvert_exporter": "python",
      "pygments_lexer": "ipython3",
      "version": "3.10.8"
    }
  },
  "nbformat": 4,
  "nbformat_minor": 0
}
