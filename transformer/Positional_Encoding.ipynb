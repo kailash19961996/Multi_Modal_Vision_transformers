{
  "cells": [
    {
      "cell_type": "markdown",
      "metadata": {
        "id": "NMNu7Jg5troY"
      },
      "source": [
        "## Positional Encoding\n",
        "\n",
        "This notebook will code positional encoding for Transformer neural networks with pytrch"
      ]
    },
    {
      "cell_type": "code",
      "execution_count": 2,
      "metadata": {
        "id": "H3iqZxn20a7m"
      },
      "outputs": [],
      "source": [
        "import torch\n",
        "import torch.nn as nn\n",
        "\n",
        "max_sequence_length = 10 #num_words\n",
        "d_model = 8 "
      ]
    },
    {
      "cell_type": "markdown",
      "metadata": {
        "id": "2aUNCBlKvxew"
      },
      "source": [
        "$$\n",
        "PE(\\text{position}, 2i) = \\sin\\bigg( \\frac{ \\text{position} }{10000^\\frac{2i}{d_{model}}} \\bigg)\n",
        "$$\n",
        "\n",
        "$$\n",
        "PE(\\text{position}, 2i+1) = \\cos\\bigg( \\frac{ \\text{position} }{10000^\\frac{2i}{d_{model}}} \\bigg)\n",
        "$$\n",
        "\n",
        "We can rewrite these as\n",
        "\n",
        "$$\n",
        "PE(\\text{position}, i) = \\sin\\bigg( \\frac{ \\text{position} }{10000^\\frac{i}{d_{model}}} \\bigg) \\text{ when i is even}\n",
        "$$\n",
        "\n",
        "$$\n",
        "PE(\\text{position}, i) = \\cos\\bigg( \\frac{ \\text{position} }{10000^\\frac{i-1}{d_{model}}} \\bigg) \\text{ when i is odd}\n",
        "$$"
      ]
    },
    {
      "cell_type": "code",
      "execution_count": 3,
      "metadata": {
        "colab": {
          "base_uri": "https://localhost:8080/"
        },
        "id": "j3SWE1Nxwo-D",
        "outputId": "5d9482c7-79ad-46cc-ce14-8e7ad7e335b2"
      },
      "outputs": [
        {
          "data": {
            "text/plain": [
              "tensor([0., 2., 4., 6.])"
            ]
          },
          "execution_count": 3,
          "metadata": {},
          "output_type": "execute_result"
        }
      ],
      "source": [
        "even_i = torch.arange(0, d_model, 2).float()\n",
        "even_i"
      ]
    },
    {
      "cell_type": "code",
      "execution_count": 4,
      "metadata": {
        "colab": {
          "base_uri": "https://localhost:8080/"
        },
        "id": "h-RWR30KxdLM",
        "outputId": "123b4f15-8cba-4eb7-9f5d-faabe2dbc286"
      },
      "outputs": [
        {
          "data": {
            "text/plain": [
              "tensor([   1.,   10.,  100., 1000.])"
            ]
          },
          "execution_count": 4,
          "metadata": {},
          "output_type": "execute_result"
        }
      ],
      "source": [
        "even_denominator = torch.pow(10000, even_i/d_model)\n",
        "even_denominator"
      ]
    },
    {
      "cell_type": "code",
      "execution_count": 5,
      "metadata": {
        "colab": {
          "base_uri": "https://localhost:8080/"
        },
        "id": "iITvtjTt6jO-",
        "outputId": "2a9f433f-14b6-4a42-fcb2-4b896e215de0"
      },
      "outputs": [
        {
          "data": {
            "text/plain": [
              "tensor([1., 3., 5., 7.])"
            ]
          },
          "execution_count": 5,
          "metadata": {},
          "output_type": "execute_result"
        }
      ],
      "source": [
        "odd_i = torch.arange(1, d_model, 2).float()\n",
        "odd_i"
      ]
    },
    {
      "cell_type": "code",
      "execution_count": 6,
      "metadata": {
        "colab": {
          "base_uri": "https://localhost:8080/"
        },
        "id": "AAIVnPLJ1JYC",
        "outputId": "67ca824f-82b1-41d8-fac5-84ff84999349"
      },
      "outputs": [
        {
          "data": {
            "text/plain": [
              "tensor([   1.,   10.,  100., 1000.])"
            ]
          },
          "execution_count": 6,
          "metadata": {},
          "output_type": "execute_result"
        }
      ],
      "source": [
        "odd_denominator = torch.pow(10000, (odd_i - 1)/d_model)\n",
        "odd_denominator"
      ]
    },
    {
      "cell_type": "markdown",
      "metadata": {
        "id": "LBtyLN2NAtEC"
      },
      "source": [
        "`even_denominator` and `odd_denominator` are the same! So we can just do one of these actions and call the resulting variable `denominator`"
      ]
    },
    {
      "cell_type": "code",
      "execution_count": 7,
      "metadata": {
        "id": "IyjRI1imBA3F"
      },
      "outputs": [],
      "source": [
        "denominator = even_denominator"
      ]
    },
    {
      "cell_type": "code",
      "execution_count": 11,
      "metadata": {
        "id": "WwxxoNSN-me9"
      },
      "outputs": [
        {
          "data": {
            "text/plain": [
              "tensor([0., 1., 2., 3., 4., 5., 6., 7., 8., 9.])"
            ]
          },
          "execution_count": 11,
          "metadata": {},
          "output_type": "execute_result"
        }
      ],
      "source": [
        "position = torch.arange(max_sequence_length, dtype=torch.float)\n",
        "position"
      ]
    },
    {
      "cell_type": "code",
      "execution_count": 12,
      "metadata": {
        "colab": {
          "base_uri": "https://localhost:8080/"
        },
        "id": "1nfvUzG8-rMK",
        "outputId": "3bc44cf5-0c38-43ae-bee2-7cd86f078601"
      },
      "outputs": [
        {
          "data": {
            "text/plain": [
              "tensor([[0.],\n",
              "        [1.],\n",
              "        [2.],\n",
              "        [3.],\n",
              "        [4.],\n",
              "        [5.],\n",
              "        [6.],\n",
              "        [7.],\n",
              "        [8.],\n",
              "        [9.]])"
            ]
          },
          "execution_count": 12,
          "metadata": {},
          "output_type": "execute_result"
        }
      ],
      "source": [
        "position= position.reshape(max_sequence_length, 1)\n",
        "position"
      ]
    },
    {
      "cell_type": "code",
      "execution_count": 13,
      "metadata": {
        "id": "XEm-9niG4VEl"
      },
      "outputs": [],
      "source": [
        "even_PE = torch.sin(position / denominator)\n",
        "odd_PE = torch.cos(position / denominator)"
      ]
    },
    {
      "cell_type": "code",
      "execution_count": 14,
      "metadata": {
        "colab": {
          "base_uri": "https://localhost:8080/"
        },
        "id": "Uqfc01YJ43w6",
        "outputId": "b151d8fe-ce1c-4bfc-bb57-1e3ec54aae49"
      },
      "outputs": [
        {
          "data": {
            "text/plain": [
              "tensor([[ 0.0000,  0.0000,  0.0000,  0.0000],\n",
              "        [ 0.8415,  0.0998,  0.0100,  0.0010],\n",
              "        [ 0.9093,  0.1987,  0.0200,  0.0020],\n",
              "        [ 0.1411,  0.2955,  0.0300,  0.0030],\n",
              "        [-0.7568,  0.3894,  0.0400,  0.0040],\n",
              "        [-0.9589,  0.4794,  0.0500,  0.0050],\n",
              "        [-0.2794,  0.5646,  0.0600,  0.0060],\n",
              "        [ 0.6570,  0.6442,  0.0699,  0.0070],\n",
              "        [ 0.9894,  0.7174,  0.0799,  0.0080],\n",
              "        [ 0.4121,  0.7833,  0.0899,  0.0090]])"
            ]
          },
          "execution_count": 14,
          "metadata": {},
          "output_type": "execute_result"
        }
      ],
      "source": [
        "even_PE"
      ]
    },
    {
      "cell_type": "code",
      "execution_count": 15,
      "metadata": {
        "colab": {
          "base_uri": "https://localhost:8080/"
        },
        "id": "Fjmx56D25A5T",
        "outputId": "9615f471-3bc5-445e-d229-09bcd93d239e"
      },
      "outputs": [
        {
          "data": {
            "text/plain": [
              "torch.Size([10, 4])"
            ]
          },
          "execution_count": 15,
          "metadata": {},
          "output_type": "execute_result"
        }
      ],
      "source": [
        "even_PE.shape"
      ]
    },
    {
      "cell_type": "code",
      "execution_count": 16,
      "metadata": {},
      "outputs": [],
      "source": [
        "x = torch.ones((10, 8))"
      ]
    },
    {
      "cell_type": "code",
      "execution_count": 17,
      "metadata": {},
      "outputs": [
        {
          "data": {
            "text/plain": [
              "torch.Size([10, 8])"
            ]
          },
          "execution_count": 17,
          "metadata": {},
          "output_type": "execute_result"
        }
      ],
      "source": [
        "x.shape"
      ]
    },
    {
      "cell_type": "code",
      "execution_count": 18,
      "metadata": {},
      "outputs": [],
      "source": [
        "pe = torch.zeros_like(x)"
      ]
    },
    {
      "cell_type": "code",
      "execution_count": 19,
      "metadata": {},
      "outputs": [
        {
          "data": {
            "text/plain": [
              "torch.Size([10, 8])"
            ]
          },
          "execution_count": 19,
          "metadata": {},
          "output_type": "execute_result"
        }
      ],
      "source": [
        "pe.size()"
      ]
    },
    {
      "cell_type": "code",
      "execution_count": 20,
      "metadata": {},
      "outputs": [
        {
          "data": {
            "text/plain": [
              "torch.Size([10, 4])"
            ]
          },
          "execution_count": 20,
          "metadata": {},
          "output_type": "execute_result"
        }
      ],
      "source": [
        "even_PE.shape"
      ]
    },
    {
      "cell_type": "code",
      "execution_count": 55,
      "metadata": {},
      "outputs": [
        {
          "data": {
            "text/plain": [
              "tensor([[ 0.0000,  0.0000,  0.0000,  0.0000,  0.0000,  0.0000,  0.0000,  0.0000],\n",
              "        [ 0.8415,  0.0000,  0.0998,  0.0000,  0.0100,  0.0000,  0.0010,  0.0000],\n",
              "        [ 0.9093,  0.0000,  0.1987,  0.0000,  0.0200,  0.0000,  0.0020,  0.0000],\n",
              "        [ 0.1411,  0.0000,  0.2955,  0.0000,  0.0300,  0.0000,  0.0030,  0.0000],\n",
              "        [-0.7568,  0.0000,  0.3894,  0.0000,  0.0400,  0.0000,  0.0040,  0.0000],\n",
              "        [-0.9589,  0.0000,  0.4794,  0.0000,  0.0500,  0.0000,  0.0050,  0.0000],\n",
              "        [-0.2794,  0.0000,  0.5646,  0.0000,  0.0600,  0.0000,  0.0060,  0.0000],\n",
              "        [ 0.6570,  0.0000,  0.6442,  0.0000,  0.0699,  0.0000,  0.0070,  0.0000],\n",
              "        [ 0.9894,  0.0000,  0.7174,  0.0000,  0.0799,  0.0000,  0.0080,  0.0000],\n",
              "        [ 0.4121,  0.0000,  0.7833,  0.0000,  0.0899,  0.0000,  0.0090,  0.0000]])"
            ]
          },
          "execution_count": 55,
          "metadata": {},
          "output_type": "execute_result"
        }
      ],
      "source": [
        "pe"
      ]
    },
    {
      "cell_type": "code",
      "execution_count": 21,
      "metadata": {
        "colab": {
          "base_uri": "https://localhost:8080/"
        },
        "id": "J8TlRfY745hA",
        "outputId": "bfd9bd54-009a-4cb5-c682-88bffc6b7a4e"
      },
      "outputs": [
        {
          "data": {
            "text/plain": [
              "tensor([[ 1.0000,  1.0000,  1.0000,  1.0000],\n",
              "        [ 0.5403,  0.9950,  1.0000,  1.0000],\n",
              "        [-0.4161,  0.9801,  0.9998,  1.0000],\n",
              "        [-0.9900,  0.9553,  0.9996,  1.0000],\n",
              "        [-0.6536,  0.9211,  0.9992,  1.0000],\n",
              "        [ 0.2837,  0.8776,  0.9988,  1.0000],\n",
              "        [ 0.9602,  0.8253,  0.9982,  1.0000],\n",
              "        [ 0.7539,  0.7648,  0.9976,  1.0000],\n",
              "        [-0.1455,  0.6967,  0.9968,  1.0000],\n",
              "        [-0.9111,  0.6216,  0.9960,  1.0000]])"
            ]
          },
          "execution_count": 21,
          "metadata": {},
          "output_type": "execute_result"
        }
      ],
      "source": [
        "odd_PE"
      ]
    },
    {
      "cell_type": "code",
      "execution_count": 22,
      "metadata": {
        "colab": {
          "base_uri": "https://localhost:8080/"
        },
        "id": "Bazd5CSZ948R",
        "outputId": "396408c7-26b1-4268-b530-bcfa32a95d69"
      },
      "outputs": [
        {
          "data": {
            "text/plain": [
              "torch.Size([10, 4])"
            ]
          },
          "execution_count": 22,
          "metadata": {},
          "output_type": "execute_result"
        }
      ],
      "source": [
        "odd_PE.shape"
      ]
    },
    {
      "cell_type": "code",
      "execution_count": 26,
      "metadata": {
        "colab": {
          "base_uri": "https://localhost:8080/"
        },
        "id": "X0n6V1nk_Pgg",
        "outputId": "0b9c0f1e-3a48-4993-a295-5634b73dd82c"
      },
      "outputs": [
        {
          "data": {
            "text/plain": [
              "(torch.Size([10, 4, 2]), tensor([0., 1.]))"
            ]
          },
          "execution_count": 26,
          "metadata": {},
          "output_type": "execute_result"
        }
      ],
      "source": [
        "stacked = torch.stack([even_PE, odd_PE], dim=2)\n",
        "stacked.shape, stacked[0][0]"
      ]
    },
    {
      "cell_type": "code",
      "execution_count": 39,
      "metadata": {
        "colab": {
          "base_uri": "https://localhost:8080/"
        },
        "id": "LJAGzwSF_fVV",
        "outputId": "62e15b26-d4b0-433d-8fd0-fc10b5e7311b"
      },
      "outputs": [
        {
          "data": {
            "text/plain": [
              "(tensor([[ 0.0000e+00,  1.0000e+00,  0.0000e+00,  1.0000e+00,  0.0000e+00,\n",
              "           1.0000e+00,  0.0000e+00,  1.0000e+00],\n",
              "         [ 8.4147e-01,  5.4030e-01,  9.9833e-02,  9.9500e-01,  9.9998e-03,\n",
              "           9.9995e-01,  1.0000e-03,  1.0000e+00],\n",
              "         [ 9.0930e-01, -4.1615e-01,  1.9867e-01,  9.8007e-01,  1.9999e-02,\n",
              "           9.9980e-01,  2.0000e-03,  1.0000e+00],\n",
              "         [ 1.4112e-01, -9.8999e-01,  2.9552e-01,  9.5534e-01,  2.9995e-02,\n",
              "           9.9955e-01,  3.0000e-03,  1.0000e+00],\n",
              "         [-7.5680e-01, -6.5364e-01,  3.8942e-01,  9.2106e-01,  3.9989e-02,\n",
              "           9.9920e-01,  4.0000e-03,  9.9999e-01],\n",
              "         [-9.5892e-01,  2.8366e-01,  4.7943e-01,  8.7758e-01,  4.9979e-02,\n",
              "           9.9875e-01,  5.0000e-03,  9.9999e-01],\n",
              "         [-2.7942e-01,  9.6017e-01,  5.6464e-01,  8.2534e-01,  5.9964e-02,\n",
              "           9.9820e-01,  6.0000e-03,  9.9998e-01],\n",
              "         [ 6.5699e-01,  7.5390e-01,  6.4422e-01,  7.6484e-01,  6.9943e-02,\n",
              "           9.9755e-01,  6.9999e-03,  9.9998e-01],\n",
              "         [ 9.8936e-01, -1.4550e-01,  7.1736e-01,  6.9671e-01,  7.9915e-02,\n",
              "           9.9680e-01,  7.9999e-03,  9.9997e-01],\n",
              "         [ 4.1212e-01, -9.1113e-01,  7.8333e-01,  6.2161e-01,  8.9879e-02,\n",
              "           9.9595e-01,  8.9999e-03,  9.9996e-01]]),\n",
              " torch.Size([10, 8]))"
            ]
          },
          "execution_count": 39,
          "metadata": {},
          "output_type": "execute_result"
        }
      ],
      "source": [
        "PE = torch.flatten(stacked, start_dim=1, end_dim=2)\n",
        "PE, PE.shape"
      ]
    },
    {
      "cell_type": "markdown",
      "metadata": {
        "id": "Liidl3ggt0wK"
      },
      "source": [
        "## Class\n",
        "\n",
        "Let's combine all the code above into a cute class"
      ]
    },
    {
      "cell_type": "code",
      "execution_count": 68,
      "metadata": {
        "id": "E1G1ziOa6SdZ"
      },
      "outputs": [],
      "source": [
        "import torch\n",
        "import torch.nn as nn\n",
        "\n",
        "class PositionalEncoding(nn.Module):\n",
        "\n",
        "    def __init__(self, d_model, max_sequence_length):\n",
        "        super().__init__()\n",
        "        self.max_sequence_length = max_sequence_length\n",
        "        self.d_model = d_model\n",
        "\n",
        "    def forward(self):\n",
        "        even_odd_i = torch.arange(0, self.d_model, 2).float()\n",
        "        denominator = torch.pow(10000, even_odd_i/self.d_model)\n",
        "\n",
        "        position = torch.arange(self.max_sequence_length).reshape(self.max_sequence_length, 1)\n",
        "\n",
        "        even_PE = torch.sin(position / denominator)\n",
        "        print(even_PE.shape)\n",
        "        odd_PE = torch.cos(position / denominator)\n",
        "\n",
        "        stacked = torch.stack([even_PE, odd_PE], dim=2)\n",
        "        print(stacked.shape)\n",
        "        PE = torch.flatten(stacked, start_dim=1, end_dim=2)\n",
        "        print(PE.shape)\n",
        "        return PE"
      ]
    },
    {
      "cell_type": "code",
      "execution_count": 67,
      "metadata": {
        "colab": {
          "base_uri": "https://localhost:8080/"
        },
        "id": "ENHY3b-BDgL9",
        "outputId": "6413d8c5-7fbd-48b4-dfd6-bbae0396bd0c"
      },
      "outputs": [
        {
          "name": "stdout",
          "output_type": "stream",
          "text": [
            "torch.Size([10, 3, 2])\n",
            "torch.Size([10, 6])\n"
          ]
        },
        {
          "data": {
            "text/plain": [
              "tensor([[ 0.0000,  1.0000,  0.0000,  1.0000,  0.0000,  1.0000],\n",
              "        [ 0.8415,  0.5403,  0.0464,  0.9989,  0.0022,  1.0000],\n",
              "        [ 0.9093, -0.4161,  0.0927,  0.9957,  0.0043,  1.0000],\n",
              "        [ 0.1411, -0.9900,  0.1388,  0.9903,  0.0065,  1.0000],\n",
              "        [-0.7568, -0.6536,  0.1846,  0.9828,  0.0086,  1.0000],\n",
              "        [-0.9589,  0.2837,  0.2300,  0.9732,  0.0108,  0.9999],\n",
              "        [-0.2794,  0.9602,  0.2749,  0.9615,  0.0129,  0.9999],\n",
              "        [ 0.6570,  0.7539,  0.3192,  0.9477,  0.0151,  0.9999],\n",
              "        [ 0.9894, -0.1455,  0.3629,  0.9318,  0.0172,  0.9999],\n",
              "        [ 0.4121, -0.9111,  0.4057,  0.9140,  0.0194,  0.9998]])"
            ]
          },
          "execution_count": 67,
          "metadata": {},
          "output_type": "execute_result"
        }
      ],
      "source": [
        "pe = PositionalEncoding(d_model=6, max_sequence_length=10)\n",
        "pe.forward()"
      ]
    },
    {
      "cell_type": "markdown",
      "metadata": {
        "id": "VjPIbLcBt6l4"
      },
      "source": [
        "Happy Coding!"
      ]
    },
    {
      "cell_type": "markdown",
      "metadata": {},
      "source": []
    }
  ],
  "metadata": {
    "colab": {
      "provenance": []
    },
    "kernelspec": {
      "display_name": "Python 3",
      "name": "python3"
    },
    "language_info": {
      "codemirror_mode": {
        "name": "ipython",
        "version": 3
      },
      "file_extension": ".py",
      "mimetype": "text/x-python",
      "name": "python",
      "nbconvert_exporter": "python",
      "pygments_lexer": "ipython3",
      "version": "3.11.3"
    }
  },
  "nbformat": 4,
  "nbformat_minor": 0
}
